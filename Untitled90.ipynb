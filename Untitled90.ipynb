{
 "cells": [
  {
   "cell_type": "code",
   "execution_count": 79,
   "metadata": {},
   "outputs": [],
   "source": [
    "import numpy as np\n",
    "import pandas as pd\n",
    "import matplotlib.pyplot as plt\n"
   ]
  },
  {
   "cell_type": "code",
   "execution_count": 80,
   "metadata": {},
   "outputs": [],
   "source": [
    "x=pd.read_csv(\"C:\\\\Users\\\\tgtus\\\\Desktop\\\\weightedX.csv\").values"
   ]
  },
  {
   "cell_type": "code",
   "execution_count": 81,
   "metadata": {},
   "outputs": [],
   "source": [
    "y=pd.read_csv(\"C:\\\\Users\\\\tgtus\\\\Desktop\\\\weightedY.csv\").values"
   ]
  },
  {
   "cell_type": "code",
   "execution_count": 15,
   "metadata": {},
   "outputs": [
    {
     "data": {
      "text/plain": [
       "(99, 1)"
      ]
     },
     "execution_count": 15,
     "metadata": {},
     "output_type": "execute_result"
    },
    {
     "data": {
      "image/png": "[encoded data removed]",
      "text/plain": [
       "<Figure size 432x288 with 1 Axes>"
      ]
     },
     "metadata": {
      "needs_background": "light"
     },
     "output_type": "display_data"
    }
   ],
   "source": [
    "plt.scatter(x,y)\n",
    "x.shape"
   ]
  },
  {
   "cell_type": "code",
   "execution_count": null,
   "metadata": {},
   "outputs": [],
   "source": [
    "def fw(x,y,qp,tau):\n",
    "        \n",
    "    x=np.hstack((x,np.ones((x.shape[0],1))))\n",
    "    w=np.eye(x.shape[0]) \n",
    "    x=np.mat(x)\n",
    "    y=np.mat(y)\n",
    "    \n",
    "    qp=np.mat([qp])\n",
    "    for i in range(x.shape[0]):\n",
    "        xi=x[i]\n",
    "        xi=np.mat(xi)\n",
    "        xqpt=np.transpose(xi-qp)\n",
    "        w[i][i]=1/np.exp(((xi-qp)*xqpt)/(2*(tau**2)))\n",
    "    return w\n",
    "\n",
    "def predict(x,y,w,qp):\n",
    "    qp=np.mat([qp])\n",
    "    x=np.hstack((x,np.ones((x.shape[0],1))))\n",
    "    x=np.mat(x)\n",
    "    y=np.mat(y)\n",
    "    xt=np.transpose(x)\n",
    "    theta=(np.lixt*w*x)\n",
    "    return np.dot(qp,theta)"
   ]
  },
  {
   "cell_type": "code",
   "execution_count": 91,
   "metadata": {
    "jupyter": {
     "source_hidden": true
    }
   },
   "outputs": [
    {
     "name": "stdout",
     "output_type": "stream",
     "text": [
      "[[0.39820298 0.         0.         ... 0.         0.         0.        ]\n",
      " [0.         0.19163879 0.         ... 0.         0.         0.        ]\n",
      " [0.         0.         0.39958333 ... 0.         0.         0.        ]\n",
      " ...\n",
      " [0.         0.         0.         ... 0.61369421 0.         0.        ]\n",
      " [0.         0.         0.         ... 0.         0.92494943 0.        ]\n",
      " [0.         0.         0.         ... 0.         0.         0.97596651]]\n"
     ]
    },
    {
     "data": {
      "text/plain": [
       "<matplotlib.collections.PathCollection at 0x1f9b5af6b50>"
      ]
     },
     "execution_count": 91,
     "metadata": {},
     "output_type": "execute_result"
    },
    {
     "data": {
      "image/png": "[encoded data removed]",
      "text/plain": [
       "<Figure size 432x288 with 1 Axes>"
      ]
     },
     "metadata": {
      "needs_background": "light"
     },
     "output_type": "display_data"
    }
   ],
   "source": [
    "x=pd.read_csv(\"C:\\\\Users\\\\tgtus\\\\Desktop\\\\weightedX.csv\").values\n",
    "y=pd.read_csv(\"C:\\\\Users\\\\tgtus\\\\Desktop\\\\weightedY.csv\").values\n",
    "\n",
    "x=(x-np.mean(x))/np.std(x)\n",
    "def fw(x,qp,tau):\n",
    "   \n",
    "        \n",
    "    \n",
    "    w=np.mat(np.eye(x.shape[0])) \n",
    "    for i in range(x.shape[0]):\n",
    "        \n",
    "        xi=x[i]\n",
    "        \n",
    "        xqpt=np.transpose(xi-qp)\n",
    "        w[i,i]=np.exp((xi-qp)*xqpt/(-2*tau*tau))\n",
    "    return w\n",
    "\n",
    "def predict(x,y,w,qp):\n",
    "    \n",
    "    \n",
    "    x=np.hstack((x,np.ones((x.shape[0],1))))\n",
    "    \n",
    "    qp=np.mat([qp,1])\n",
    "    xt=np.transpose(x)\n",
    "    theta=np.linalg.inv(xt*(w*x))*(xt*(w*y))\n",
    "    return qp*theta\n",
    "\n",
    "x=np.mat(x)\n",
    "y=np.mat(y)\n",
    "w=fw(x,1,1)\n",
    "print(w)\n",
    "plt.scatter(np.array(x),np.array(y))\n",
    "plt.scatter(1,np.array(predict(x,y,w,1)),color='orange')"
   ]
  },
  {
   "cell_type": "code",
   "execution_count": null,
   "metadata": {},
   "outputs": [],
   "source": [
    "BaseException"
   ]
  },
  {
   "cell_type": "code",
   "execution_count": null,
   "metadata": {},
   "outputs": [],
   "source": []
  },
  {
   "cell_type": "code",
   "execution_count": null,
   "metadata": {},
   "outputs": [],
   "source": []
  }
 ],
 "metadata": {
  "kernelspec": {
   "display_name": "Python 3",
   "language": "python",
   "name": "python3"
  },
  "language_info": {
   "codemirror_mode": {
    "name": "ipython",
    "version": 3
   },
   "file_extension": ".py",
   "mimetype": "text/x-python",
   "name": "python",
   "nbconvert_exporter": "python",
   "pygments_lexer": "ipython3",
   "version": "3.8.3"
  }
 },
 "nbformat": 4,
 "nbformat_minor": 4
}
